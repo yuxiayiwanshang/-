{
  "nbformat": 4,
  "nbformat_minor": 0,
  "metadata": {
    "colab": {
      "name": "““Gradient.ipynb”的副本”的副本",
      "version": "0.3.2",
      "provenance": [],
      "include_colab_link": true
    },
    "kernelspec": {
      "name": "python3",
      "display_name": "Python 3"
    }
  },
  "cells": [
    {
      "cell_type": "markdown",
      "metadata": {
        "id": "view-in-github",
        "colab_type": "text"
      },
      "source": [
        "<a href=\"https://colab.research.google.com/github/yuxiayiwanshang/-/blob/master/%E2%80%9C%E2%80%9CGradient_ipynb%E2%80%9D.ipynb\" target=\"_parent\"><img src=\"https://colab.research.google.com/assets/colab-badge.svg\" alt=\"Open In Colab\"/></a>"
      ]
    },
    {
      "metadata": {
        "colab_type": "code",
        "id": "TbLwLJx-klPd",
        "colab": {}
      },
      "cell_type": "code",
      "source": [
        "import numpy as np \n",
        "from matplotlib import pyplot as plt"
      ],
      "execution_count": 0,
      "outputs": []
    },
    {
      "metadata": {
        "colab_type": "code",
        "id": "2z2jzCSqklPY",
        "colab": {}
      },
      "cell_type": "code",
      "source": [
        "np.set_printoptions(precision=4)\n",
        "t = np.linspace(0,20,1000)[:,np.newaxis]\n",
        "y = 100-16*t+pow(t,2)"
      ],
      "execution_count": 0,
      "outputs": []
    },
    {
      "metadata": {
        "colab_type": "code",
        "outputId": "de15d09a-a95b-4bcd-ad31-ce4c20a17f73",
        "id": "86W1GLqSklPT",
        "colab": {
          "base_uri": "https://localhost:8080/",
          "height": 365
        }
      },
      "cell_type": "code",
      "source": [
        "plt.plot(t,y)"
      ],
      "execution_count": 39,
      "outputs": [
        {
          "output_type": "execute_result",
          "data": {
            "text/plain": [
              "[<matplotlib.lines.Line2D at 0x7f6bf10c9cc0>]"
            ]
          },
          "metadata": {
            "tags": []
          },
          "execution_count": 39
        },
        {
          "output_type": "display_data",
          "data": {
            "image/png": "[encoded data removed]",
            "text/plain": [
              "<matplotlib.figure.Figure at 0x7f6bf3f6b550>"
            ]
          },
          "metadata": {
            "tags": []
          }
        }
      ]
    },
    {
      "metadata": {
        "id": "EW2KGDzrmTWP",
        "colab_type": "code",
        "colab": {}
      },
      "cell_type": "code",
      "source": [
        "alpha = 0.001\n",
        "#w = np.random.randn(1)\n",
        "w = 100\n",
        "gradient = 2*w -16\n",
        "ite = 1\n",
        "#w = w-alpha*gradient"
      ],
      "execution_count": 0,
      "outputs": []
    },
    {
      "metadata": {
        "id": "6cxaHLPzncUl",
        "colab_type": "code",
        "colab": {
          "base_uri": "https://localhost:8080/",
          "height": 917
        },
        "outputId": "d2c9103f-635c-498d-d476-6b2f3e2e400d"
      },
      "cell_type": "code",
      "source": [
        "while True:\n",
        "  gradient = 2*w - 16\n",
        "  wn = w-alpha*gradient\n",
        "  ite +=1\n",
        "\n",
        "  if abs(wn-w)< 1e-5 or ite >50000:\n",
        "    print(w)\n",
        "    break\n",
        "  w = wn\n",
        "  if ite % 100 == 0 :\n",
        "    print(\"iteration-—\"+str(ite)+\"   w-—\"+str(w)+\"   step-—\"+str(gradient))"
      ],
      "execution_count": 44,
      "outputs": [
        {
          "output_type": "stream",
          "text": [
            "iteration-—100   w-—83.30814603133537   step-—150.91812831930935\n",
            "iteration-—200   w-—69.6447484638797   step-—123.53657006789518\n",
            "iteration-—300   w-—58.46034477589987   step-—101.12293542264503\n",
            "iteration-—400   w-—49.305163186684744   step-—82.77587812962875\n",
            "iteration-—500   w-—41.81103544685862   step-—67.75758606584894\n",
            "iteration-—600   w-—35.676591248942216   step-—55.464110719323074\n",
            "iteration-—700   w-—30.655138863314324   step-—45.40107988640145\n",
            "iteration-—800   w-—26.54474462911584   step-—37.16381689201571\n",
            "iteration-—900   w-—23.180112354818224   step-—30.421066843323096\n",
            "iteration-—1000   w-—20.425936065094874   step-—24.901675481152054\n",
            "iteration-—1100   w-—18.171458780067415   step-—20.38368492999482\n",
            "iteration-—1200   w-—16.326018512619825   step-—16.685407840921492\n",
            "iteration-—1300   w-—14.8154023696519   step-—13.658120981266336\n",
            "iteration-—1400   w-—13.578862140391891   step-—11.180084449683147\n",
            "iteration-—1500   w-—12.566671356057832   step-—9.151646004123911\n",
            "iteration-—1600   w-—11.738125579990433   step-—7.491233627235335\n",
            "iteration-—1700   w-—11.059905511536845   step-—6.132075173420532\n",
            "iteration-—1800   w-—10.504737077227224   step-—5.01951318081608\n",
            "iteration-—1900   w-—10.050294625890519   step-—4.1088068655120615\n",
            "iteration-—2000   w-—9.678303120585056   step-—3.3633329069840805\n",
            "iteration-—2100   w-—9.373803222715924   step-—2.7531126707733975\n",
            "iteration-—2200   w-—9.12454971428924   step-—2.253606641862202\n",
            "iteration-—2300   w-—8.920519066339024   step-—1.844727587853754\n",
            "iteration-—2400   w-—8.753506350787909   step-—1.5100327671100366\n",
            "iteration-—2500   w-—8.61679528587691   step-—1.236062697148114\n",
            "iteration-—2600   w-—8.504888146307142   step-—1.0117998923990825\n",
            "iteration-—2700   w-—8.41328467664771   step-—0.8282258049052302\n",
            "iteration-—2800   w-—8.338301117190206   step-—0.6779581506817749\n",
            "iteration-—2900   w-—8.276922064520912   step-—0.5549540371160546\n",
            "iteration-—3000   w-—8.226679209502601   step-—0.4542669529110235\n",
            "iteration-—3100   w-—8.185552076211849   step-—0.37184784811993765\n",
            "iteration-—3200   w-—8.151886770128048   step-—0.3043823048658254\n",
            "iteration-—3300   w-—8.124329468098164   step-—0.2491572506977242\n",
            "iteration-—3400   w-—8.101771975429727   step-—0.20395185456859366\n",
            "iteration-—3500   w-—8.083307160734345   step-—0.16694821790449765\n",
            "iteration-—3600   w-—8.068192476369973   step-—0.13665826927850233\n",
            "iteration-—3700   w-—8.055820097485956   step-—0.1118639228175482\n",
            "iteration-—3800   w-—8.045692478836477   step-—0.09156809386067621\n",
            "iteration-—3900   w-—8.037402346399467   step-—0.07495460200293991\n",
            "iteration-—4000   w-—8.03061631918006   step-—0.061355349058235475\n",
            "iteration-—4100   w-—8.025061502562536   step-—0.05022345202912959\n",
            "iteration-—4200   w-—8.020514514073316   step-—0.04111125064792631\n",
            "iteration-—4300   w-—8.016792500234729   step-—0.033652305079616696\n",
            "iteration-—4400   w-—8.013745783259871   step-—0.02754665983942317\n",
            "iteration-—4500   w-—8.011251841880979   step-—0.02254878132460547\n",
            "iteration-—4600   w-—8.009210384255379   step-—0.018457683878516207\n",
            "iteration-—4700   w-—8.007539314809879   step-—0.01510884731438722\n",
            "iteration-—4800   w-—8.00617143283346   step-—0.012367600868657291\n",
            "iteration-—4900   w-—8.00505173005484   step-—0.01012370752472691\n",
            "8.00499141159092\n"
          ],
          "name": "stdout"
        }
      ]
    }
  ]
}